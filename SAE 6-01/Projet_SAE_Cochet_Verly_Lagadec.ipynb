{
 "cells": [
  {
   "cell_type": "code",
   "execution_count": 1,
   "id": "c662a3d4",
   "metadata": {
    "scrolled": true
   },
   "outputs": [
    {
     "name": "stderr",
     "output_type": "stream",
     "text": [
      "C:\\Users\\r.bennetayeb\\AppData\\Local\\Temp\\ipykernel_25332\\568132765.py:2: DeprecationWarning: Importing display from IPython.core.display is deprecated since IPython 7.14, please import from IPython display\n",
      "  from IPython.core.display import display, HTML\n"
     ]
    },
    {
     "data": {
      "text/html": [
       "<style>.container { width:80% !important; }</style>"
      ],
      "text/plain": [
       "<IPython.core.display.HTML object>"
      ]
     },
     "metadata": {},
     "output_type": "display_data"
    }
   ],
   "source": [
    "# pour changer la largeur de la page htlm générée par Jupyter :\n",
    "from IPython.core.display import display, HTML\n",
    "display(HTML(\"<style>.container { width:80% !important; }</style>\"))"
   ]
  },
  {
   "cell_type": "markdown",
   "id": "f6eff43d",
   "metadata": {},
   "source": [
    "# TP : Exploration et Analyse de Données avec Pandas et Streamlit\n",
    "\n",
    "## Objectif\n",
    "\n",
    "Ce projet vise à développer vos compétences en manipulation et analyse de données à l'aide de la bibliothèque Pandas en Python. Vous apprendrez à :\n",
    "\n",
    "- Importer et explorer des données provenant de Kaggle.\n",
    "- Effectuer des requêtes et manipulations de type SQL avec Pandas.\n",
    "- Créer des visualisations interactives avec Streamlit.\n",
    "\n",
    "Ce projet est noté. Tous les codes devront être écrits en Python dans des champs *jupyter* et devront respecter les conventions de nommage. L'énoncé **ne doit pas être modifié**.\n",
    "\n",
    "La derniere séance du projet, vous déposerez le fichier jupyter (projetSAE.ipynb) sur la plateforme pédagogique.\n"
   ]
  },
  {
   "cell_type": "markdown",
   "id": "3109e372",
   "metadata": {},
   "source": [
    "##### Procédure à réaliser avant les séances de TD (nous utiliserons désormais jupyter lab)\n",
    "- Lancer Anaconda Prompt sous Windows\n",
    "- Saisissez dans Anaconda Prompt : \n",
    "conda create -n projet python pandas numpy matplotlib jupyterlab kagglehub seaborn streamlit plotly\n",
    "\n",
    "=> à la demande \"Proceed ([y]/n)?\" saisissez y (ou juste pressez sur la touche \"entrée\")\n",
    "=> \"Executing transaction\" prend du temps, c'est normal\n",
    "Saisissez dans Anaconda Prompt : \n",
    "conda activate projet\n",
    "\n",
    "##### Saisissez dans Anaconda Prompt : \n",
    "jupyter lab --notebook-dir=\"h:/\"\n",
    "Ouvrir projetSAE.ipynb dans Jupyter"
   ]
  },
  {
   "cell_type": "code",
   "execution_count": 2,
   "id": "5a1b3f02",
   "metadata": {},
   "outputs": [
    {
     "name": "stderr",
     "output_type": "stream",
     "text": [
      "C:\\Users\\e2201621\\.conda\\envs\\projet\\Lib\\site-packages\\tqdm\\auto.py:21: TqdmWarning: IProgress not found. Please update jupyter and ipywidgets. See https://ipywidgets.readthedocs.io/en/stable/user_install.html\n",
      "  from .autonotebook import tqdm as notebook_tqdm\n"
     ]
    }
   ],
   "source": [
    "%matplotlib notebook\n",
    "%matplotlib inline\n",
    "import os\n",
    "import shutil\n",
    "import pandas as pd\n",
    "import scipy\n",
    "\n",
    "import numpy as np\n",
    "import matplotlib.pyplot as plt\n",
    "import kagglehub\n",
    "\n",
    "import seaborn as sns\n",
    "import streamlit as st"
   ]
  },
  {
   "cell_type": "markdown",
   "id": "d57dab67",
   "metadata": {},
   "source": [
    "### Partie 1 : importation et exploration des données"
   ]
  },
  {
   "cell_type": "markdown",
   "id": "33235b70",
   "metadata": {},
   "source": [
    "#### Travailler avec Git\n",
    "1 - En utilisant le prompt conda : initialiser le projet \n",
    "\n",
    "2 - Ajouter le fichier Jupyter Notebook et faite votre premier commit \n",
    " \n",
    "3 -  Creer un projet sur github dépôt distant (sans README.md )\n",
    "\n",
    "4 - Pousser le projet vers ce dépôt \n",
    "\n",
    "5 - Enlever les checkpoint de jupyter "
   ]
  },
  {
   "cell_type": "markdown",
   "id": "8b18bb17",
   "metadata": {},
   "source": [
    "#### Questions\n",
    "1. Téléchargez le Dataset **Data Science Salaries 2023** sur Kaggle (https://www.kaggle.com/datasets/) via **kagglehub**.\n",
    "2. Copier le fichier du cache au répertoire du projet, décompresser et visualiser le fichier CSV **ds_salaries.csv**\n",
    "3. Importez le fichiers CSV avec Pandas."
   ]
  },
  {
   "cell_type": "markdown",
   "id": "b01f9ad7",
   "metadata": {},
   "source": [
    "##### Votre code"
   ]
  },
  {
   "cell_type": "code",
   "execution_count": 3,
   "id": "b81cdc79",
   "metadata": {},
   "outputs": [
    {
     "name": "stdout",
     "output_type": "stream",
     "text": [
      "Warning: Looks like you're using an outdated `kagglehub` version, please consider updating (latest version: 0.3.7)\n",
      "Path to dataset files: C:\\Users\\e2201621\\.cache\\kagglehub\\datasets\\arnabchaki\\data-science-salaries-2023\\versions\\1\n",
      "      work_year experience_level employment_type                 job_title  \\\n",
      "0          2023               SE              FT  Principal Data Scientist   \n",
      "1          2023               MI              CT               ML Engineer   \n",
      "2          2023               MI              CT               ML Engineer   \n",
      "3          2023               SE              FT            Data Scientist   \n",
      "4          2023               SE              FT            Data Scientist   \n",
      "...         ...              ...             ...                       ...   \n",
      "3750       2020               SE              FT            Data Scientist   \n",
      "3751       2021               MI              FT  Principal Data Scientist   \n",
      "3752       2020               EN              FT            Data Scientist   \n",
      "3753       2020               EN              CT     Business Data Analyst   \n",
      "3754       2021               SE              FT      Data Science Manager   \n",
      "\n",
      "       salary salary_currency  salary_in_usd employee_residence  remote_ratio  \\\n",
      "0       80000             EUR          85847                 ES           100   \n",
      "1       30000             USD          30000                 US           100   \n",
      "2       25500             USD          25500                 US           100   \n",
      "3      175000             USD         175000                 CA           100   \n",
      "4      120000             USD         120000                 CA           100   \n",
      "...       ...             ...            ...                ...           ...   \n",
      "3750   412000             USD         412000                 US           100   \n",
      "3751   151000             USD         151000                 US           100   \n",
      "3752   105000             USD         105000                 US           100   \n",
      "3753   100000             USD         100000                 US           100   \n",
      "3754  7000000             INR          94665                 IN            50   \n",
      "\n",
      "     company_location company_size  \n",
      "0                  ES            L  \n",
      "1                  US            S  \n",
      "2                  US            S  \n",
      "3                  CA            M  \n",
      "4                  CA            M  \n",
      "...               ...          ...  \n",
      "3750               US            L  \n",
      "3751               US            L  \n",
      "3752               US            S  \n",
      "3753               US            L  \n",
      "3754               IN            L  \n",
      "\n",
      "[3755 rows x 11 columns]\n"
     ]
    }
   ],
   "source": [
    "path = kagglehub.dataset_download(\"arnabchaki/data-science-salaries-2023\")\n",
    "\n",
    "print(\"Path to dataset files:\", path)\n",
    "\n",
    "path = os.path.normpath(path)\n",
    "\n",
    "df = pd.read_csv(r\"C:\\SAE 6-01\\projet_notebook\\ds_salaries.csv\")\n",
    "print(df)"
   ]
  },
  {
   "cell_type": "markdown",
   "id": "a3c026f0",
   "metadata": {},
   "source": [
    "##### Une bonne pratique \n",
    "- Copier les données téléchargées et les coller dans le répertoire du projet.\n",
    "Pour cela, utilisez la bibliothéque os et shutil"
   ]
  },
  {
   "cell_type": "code",
   "execution_count": 4,
   "id": "ff8da337",
   "metadata": {},
   "outputs": [
    {
     "ename": "SameFileError",
     "evalue": "'C:/SAE 6-01/projet_notebook/ds_salaries.csv' and 'C:/SAE 6-01\\\\projet_notebook\\\\ds_salaries.csv' are the same file",
     "output_type": "error",
     "traceback": [
      "\u001b[1;31m---------------------------------------------------------------------------\u001b[0m",
      "\u001b[1;31mSameFileError\u001b[0m                             Traceback (most recent call last)",
      "Cell \u001b[1;32mIn[4], line 9\u001b[0m\n\u001b[0;32m      7\u001b[0m \u001b[38;5;66;03m# Copier le fichier depuis le cache au répertoire du projet\u001b[39;00m\n\u001b[0;32m      8\u001b[0m cache_file \u001b[38;5;241m=\u001b[39m \u001b[38;5;124mr\u001b[39m\u001b[38;5;124m\"\u001b[39m\u001b[38;5;124mC:/SAE 6-01/projet_notebook/ds_salaries.csv\u001b[39m\u001b[38;5;124m\"\u001b[39m\n\u001b[1;32m----> 9\u001b[0m shutil\u001b[38;5;241m.\u001b[39mcopy(cache_file, project_dir)\n",
      "File \u001b[1;32m~\\.conda\\envs\\projet\\Lib\\shutil.py:435\u001b[0m, in \u001b[0;36mcopy\u001b[1;34m(src, dst, follow_symlinks)\u001b[0m\n\u001b[0;32m    433\u001b[0m \u001b[38;5;28;01mif\u001b[39;00m os\u001b[38;5;241m.\u001b[39mpath\u001b[38;5;241m.\u001b[39misdir(dst):\n\u001b[0;32m    434\u001b[0m     dst \u001b[38;5;241m=\u001b[39m os\u001b[38;5;241m.\u001b[39mpath\u001b[38;5;241m.\u001b[39mjoin(dst, os\u001b[38;5;241m.\u001b[39mpath\u001b[38;5;241m.\u001b[39mbasename(src))\n\u001b[1;32m--> 435\u001b[0m copyfile(src, dst, follow_symlinks\u001b[38;5;241m=\u001b[39mfollow_symlinks)\n\u001b[0;32m    436\u001b[0m copymode(src, dst, follow_symlinks\u001b[38;5;241m=\u001b[39mfollow_symlinks)\n\u001b[0;32m    437\u001b[0m \u001b[38;5;28;01mreturn\u001b[39;00m dst\n",
      "File \u001b[1;32m~\\.conda\\envs\\projet\\Lib\\shutil.py:240\u001b[0m, in \u001b[0;36mcopyfile\u001b[1;34m(src, dst, follow_symlinks)\u001b[0m\n\u001b[0;32m    237\u001b[0m sys\u001b[38;5;241m.\u001b[39maudit(\u001b[38;5;124m\"\u001b[39m\u001b[38;5;124mshutil.copyfile\u001b[39m\u001b[38;5;124m\"\u001b[39m, src, dst)\n\u001b[0;32m    239\u001b[0m \u001b[38;5;28;01mif\u001b[39;00m _samefile(src, dst):\n\u001b[1;32m--> 240\u001b[0m     \u001b[38;5;28;01mraise\u001b[39;00m SameFileError(\u001b[38;5;124m\"\u001b[39m\u001b[38;5;132;01m{!r}\u001b[39;00m\u001b[38;5;124m and \u001b[39m\u001b[38;5;132;01m{!r}\u001b[39;00m\u001b[38;5;124m are the same file\u001b[39m\u001b[38;5;124m\"\u001b[39m\u001b[38;5;241m.\u001b[39mformat(src, dst))\n\u001b[0;32m    242\u001b[0m file_size \u001b[38;5;241m=\u001b[39m \u001b[38;5;241m0\u001b[39m\n\u001b[0;32m    243\u001b[0m \u001b[38;5;28;01mfor\u001b[39;00m i, fn \u001b[38;5;129;01min\u001b[39;00m \u001b[38;5;28menumerate\u001b[39m([src, dst]):\n",
      "\u001b[1;31mSameFileError\u001b[0m: 'C:/SAE 6-01/projet_notebook/ds_salaries.csv' and 'C:/SAE 6-01\\\\projet_notebook\\\\ds_salaries.csv' are the same file"
     ]
    }
   ],
   "source": [
    "# Répertoire cible dans votre projet\n",
    "project_dir = r\"C:/SAE 6-01\\projet_notebook\"\n",
    "\n",
    "# Créer le répertoire (si nécessaire)\n",
    "os.makedirs(project_dir, exist_ok=True)\n",
    "\n",
    "# Copier le fichier depuis le cache au répertoire du projet\n",
    "cache_file = r\"C:/SAE 6-01/projet_notebook/ds_salaries.csv\"\n",
    "shutil.copy(cache_file, project_dir)"
   ]
  },
  {
   "cell_type": "code",
   "execution_count": 5,
   "id": "c150ef82",
   "metadata": {},
   "outputs": [
    {
     "data": {
      "text/html": [
       "<div>\n",
       "<style scoped>\n",
       "    .dataframe tbody tr th:only-of-type {\n",
       "        vertical-align: middle;\n",
       "    }\n",
       "\n",
       "    .dataframe tbody tr th {\n",
       "        vertical-align: top;\n",
       "    }\n",
       "\n",
       "    .dataframe thead th {\n",
       "        text-align: right;\n",
       "    }\n",
       "</style>\n",
       "<table border=\"1\" class=\"dataframe\">\n",
       "  <thead>\n",
       "    <tr style=\"text-align: right;\">\n",
       "      <th></th>\n",
       "      <th>work_year</th>\n",
       "      <th>experience_level</th>\n",
       "      <th>employment_type</th>\n",
       "      <th>job_title</th>\n",
       "      <th>salary</th>\n",
       "      <th>salary_currency</th>\n",
       "      <th>salary_in_usd</th>\n",
       "      <th>employee_residence</th>\n",
       "      <th>remote_ratio</th>\n",
       "      <th>company_location</th>\n",
       "      <th>company_size</th>\n",
       "    </tr>\n",
       "  </thead>\n",
       "  <tbody>\n",
       "    <tr>\n",
       "      <th>0</th>\n",
       "      <td>2023</td>\n",
       "      <td>SE</td>\n",
       "      <td>FT</td>\n",
       "      <td>Principal Data Scientist</td>\n",
       "      <td>80000</td>\n",
       "      <td>EUR</td>\n",
       "      <td>85847</td>\n",
       "      <td>ES</td>\n",
       "      <td>100</td>\n",
       "      <td>ES</td>\n",
       "      <td>L</td>\n",
       "    </tr>\n",
       "    <tr>\n",
       "      <th>1</th>\n",
       "      <td>2023</td>\n",
       "      <td>MI</td>\n",
       "      <td>CT</td>\n",
       "      <td>ML Engineer</td>\n",
       "      <td>30000</td>\n",
       "      <td>USD</td>\n",
       "      <td>30000</td>\n",
       "      <td>US</td>\n",
       "      <td>100</td>\n",
       "      <td>US</td>\n",
       "      <td>S</td>\n",
       "    </tr>\n",
       "    <tr>\n",
       "      <th>2</th>\n",
       "      <td>2023</td>\n",
       "      <td>MI</td>\n",
       "      <td>CT</td>\n",
       "      <td>ML Engineer</td>\n",
       "      <td>25500</td>\n",
       "      <td>USD</td>\n",
       "      <td>25500</td>\n",
       "      <td>US</td>\n",
       "      <td>100</td>\n",
       "      <td>US</td>\n",
       "      <td>S</td>\n",
       "    </tr>\n",
       "    <tr>\n",
       "      <th>3</th>\n",
       "      <td>2023</td>\n",
       "      <td>SE</td>\n",
       "      <td>FT</td>\n",
       "      <td>Data Scientist</td>\n",
       "      <td>175000</td>\n",
       "      <td>USD</td>\n",
       "      <td>175000</td>\n",
       "      <td>CA</td>\n",
       "      <td>100</td>\n",
       "      <td>CA</td>\n",
       "      <td>M</td>\n",
       "    </tr>\n",
       "    <tr>\n",
       "      <th>4</th>\n",
       "      <td>2023</td>\n",
       "      <td>SE</td>\n",
       "      <td>FT</td>\n",
       "      <td>Data Scientist</td>\n",
       "      <td>120000</td>\n",
       "      <td>USD</td>\n",
       "      <td>120000</td>\n",
       "      <td>CA</td>\n",
       "      <td>100</td>\n",
       "      <td>CA</td>\n",
       "      <td>M</td>\n",
       "    </tr>\n",
       "  </tbody>\n",
       "</table>\n",
       "</div>"
      ],
      "text/plain": [
       "   work_year experience_level employment_type                 job_title  \\\n",
       "0       2023               SE              FT  Principal Data Scientist   \n",
       "1       2023               MI              CT               ML Engineer   \n",
       "2       2023               MI              CT               ML Engineer   \n",
       "3       2023               SE              FT            Data Scientist   \n",
       "4       2023               SE              FT            Data Scientist   \n",
       "\n",
       "   salary salary_currency  salary_in_usd employee_residence  remote_ratio  \\\n",
       "0   80000             EUR          85847                 ES           100   \n",
       "1   30000             USD          30000                 US           100   \n",
       "2   25500             USD          25500                 US           100   \n",
       "3  175000             USD         175000                 CA           100   \n",
       "4  120000             USD         120000                 CA           100   \n",
       "\n",
       "  company_location company_size  \n",
       "0               ES            L  \n",
       "1               US            S  \n",
       "2               US            S  \n",
       "3               CA            M  \n",
       "4               CA            M  "
      ]
     },
     "execution_count": 5,
     "metadata": {},
     "output_type": "execute_result"
    }
   ],
   "source": [
    "# Lire le fichier depuis le répertoire du projet\n",
    "df.head()"
   ]
  },
  {
   "cell_type": "markdown",
   "id": "6beae70c",
   "metadata": {},
   "source": [
    "### Partie 2 : Analyses exploratoires"
   ]
  },
  {
   "cell_type": "markdown",
   "id": "2e561960",
   "metadata": {},
   "source": [
    "#### Question 1 :\n",
    "Nous Souhaitons :\n",
    "\n",
    "1. Connaitre est ce qu'il y a des données manquantes dans notre dataset.\n",
    "2. Voir la distribution des salaires en USD avec la bibliothèque seaborn sous fome d'histogramme\n",
    "3. avoir la liste des pays concerné par l'étude \n",
    "4. connaitre les salaire moyen par rôle, par pays, par niveau d'expérience"
   ]
  },
  {
   "cell_type": "markdown",
   "id": "e3d1bfbe",
   "metadata": {},
   "source": [
    "#### Votre code"
   ]
  },
  {
   "cell_type": "code",
   "execution_count": 6,
   "id": "d25ef4a6",
   "metadata": {},
   "outputs": [
    {
     "data": {
      "text/plain": [
       "work_year             0\n",
       "experience_level      0\n",
       "employment_type       0\n",
       "job_title             0\n",
       "salary                0\n",
       "salary_currency       0\n",
       "salary_in_usd         0\n",
       "employee_residence    0\n",
       "remote_ratio          0\n",
       "company_location      0\n",
       "company_size          0\n",
       "dtype: int64"
      ]
     },
     "execution_count": 6,
     "metadata": {},
     "output_type": "execute_result"
    }
   ],
   "source": [
    "#données manquantes \n",
    "df.isnull().sum()"
   ]
  },
  {
   "cell_type": "code",
   "execution_count": 16,
   "id": "1be28b55",
   "metadata": {},
   "outputs": [
    {
     "data": {
      "image/png": "[encoded data removed]",
      "text/plain": [
       "<Figure size 800x500 with 1 Axes>"
      ]
     },
     "metadata": {},
     "output_type": "display_data"
    }
   ],
   "source": [
    "# Distribution des salaires en USD\n",
    "fig, ax = plt.subplots(figsize=(8, 5))\n",
    "\n",
    "df[\"salary_in_usd\"].plot.hist(bins=20, edgecolor='black', linewidth=1, alpha=0.7, ax=ax, label=\"Histogramme\", density=True)\n",
    "df[\"salary_in_usd\"].plot.density(color='k', alpha=0.8, ax=ax, label=\"Fréquence\")\n",
    "\n",
    "ax.set_xlim(left=0)  \n",
    "\n",
    "plt.title('Distribution des salaires dans la data science')\n",
    "plt.xlabel('Salaire en USD')\n",
    "plt.ylabel('Densité')\n",
    "\n",
    "plt.grid(alpha=0.3)\n",
    "plt.legend()\n",
    "plt.show()"
   ]
  },
  {
   "cell_type": "code",
   "execution_count": 17,
   "id": "59ab1534",
   "metadata": {},
   "outputs": [
    {
     "data": {
      "text/plain": [
       "array(['ES', 'US', 'CA', 'DE', 'GB', 'NG', 'IN', 'HK', 'NL', 'CH', 'CF',\n",
       "       'FR', 'FI', 'UA', 'IE', 'IL', 'GH', 'CO', 'SG', 'AU', 'SE', 'SI',\n",
       "       'MX', 'BR', 'PT', 'RU', 'TH', 'HR', 'VN', 'EE', 'AM', 'BA', 'KE',\n",
       "       'GR', 'MK', 'LV', 'RO', 'PK', 'IT', 'MA', 'PL', 'AL', 'AR', 'LT',\n",
       "       'AS', 'CR', 'IR', 'BS', 'HU', 'AT', 'SK', 'CZ', 'TR', 'PR', 'DK',\n",
       "       'BO', 'PH', 'BE', 'ID', 'EG', 'AE', 'LU', 'MY', 'HN', 'JP', 'DZ',\n",
       "       'IQ', 'CN', 'NZ', 'CL', 'MD', 'MT'], dtype=object)"
      ]
     },
     "execution_count": 17,
     "metadata": {},
     "output_type": "execute_result"
    }
   ],
   "source": [
    "# liste des pays concerné par l'étude \n",
    "pd.unique(df[\"company_location\"])"
   ]
  },
  {
   "cell_type": "code",
   "execution_count": 33,
   "id": "fa1ccca8",
   "metadata": {},
   "outputs": [
    {
     "data": {
      "text/html": [
       "<div>\n",
       "<style scoped>\n",
       "    .dataframe tbody tr th:only-of-type {\n",
       "        vertical-align: middle;\n",
       "    }\n",
       "\n",
       "    .dataframe tbody tr th {\n",
       "        vertical-align: top;\n",
       "    }\n",
       "\n",
       "    .dataframe thead th {\n",
       "        text-align: right;\n",
       "    }\n",
       "</style>\n",
       "<table border=\"1\" class=\"dataframe\">\n",
       "  <thead>\n",
       "    <tr style=\"text-align: right;\">\n",
       "      <th></th>\n",
       "      <th>salary_in_usd</th>\n",
       "    </tr>\n",
       "    <tr>\n",
       "      <th>experience_level</th>\n",
       "      <th></th>\n",
       "    </tr>\n",
       "  </thead>\n",
       "  <tbody>\n",
       "    <tr>\n",
       "      <th>EN</th>\n",
       "      <td>78546.284375</td>\n",
       "    </tr>\n",
       "    <tr>\n",
       "      <th>EX</th>\n",
       "      <td>194930.929825</td>\n",
       "    </tr>\n",
       "    <tr>\n",
       "      <th>MI</th>\n",
       "      <td>104525.939130</td>\n",
       "    </tr>\n",
       "    <tr>\n",
       "      <th>SE</th>\n",
       "      <td>153051.071542</td>\n",
       "    </tr>\n",
       "  </tbody>\n",
       "</table>\n",
       "</div>"
      ],
      "text/plain": [
       "                  salary_in_usd\n",
       "experience_level               \n",
       "EN                 78546.284375\n",
       "EX                194930.929825\n",
       "MI                104525.939130\n",
       "SE                153051.071542"
      ]
     },
     "execution_count": 33,
     "metadata": {},
     "output_type": "execute_result"
    }
   ],
   "source": [
    "#Salaire moyen par rôle\n",
    "df.groupby(by=\"job_title\")[['salary_in_usd']].mean()\n",
    "\n",
    "# Salaire moyen par pays\n",
    "df.groupby(by=\"company_location\")[['salary_in_usd']].mean()\n",
    "\n",
    "# Salaires moyens par niveau d'expérience\n",
    "df.groupby(by=\"experience_level\")[['salary_in_usd']].mean()"
   ]
  },
  {
   "cell_type": "markdown",
   "id": "5fed3aef",
   "metadata": {},
   "source": [
    "#### Question 2 :\n",
    "Nous Souhaitons :\n",
    "\n",
    "1. Filtrer les salaires pour un pays donné (ex : US)\n",
    "2. Connaitre les top 5 des entreprises qui paient le plus\n",
    "\n",
    "3. Filtrage et agrégation:\n",
    "    - Afficher tous les employés dont le salaire est supérieur à 100 000 USD, ainsi que leur rôle.\n",
    "    - Pays avec la plus forte proportion de télétravail (remote_ratio = 100)\n",
    "       \n",
    "4. Requêtes conditionnelles: \n",
    "    - Salaire moyen des employés à distance (100%)\n",
    "    - Comparer salaires moyens pour deux catégories\n",
    "        \n",
    "5. Ajouter une colonne pour les fourchettes de salaires\n",
    "6. Corrélations : Relation entre télétravail et salaire: \n",
    " -\n",
    "7. Salaire moyen par taille d'entreprise \n",
    "8. faire un tableau croisé : Moyenne des salaires par niveau d'expérience et télétravail"
   ]
  },
  {
   "cell_type": "code",
   "execution_count": 43,
   "id": "057e12e8",
   "metadata": {},
   "outputs": [
    {
     "data": {
      "text/html": [
       "<div>\n",
       "<style scoped>\n",
       "    .dataframe tbody tr th:only-of-type {\n",
       "        vertical-align: middle;\n",
       "    }\n",
       "\n",
       "    .dataframe tbody tr th {\n",
       "        vertical-align: top;\n",
       "    }\n",
       "\n",
       "    .dataframe thead th {\n",
       "        text-align: right;\n",
       "    }\n",
       "</style>\n",
       "<table border=\"1\" class=\"dataframe\">\n",
       "  <thead>\n",
       "    <tr style=\"text-align: right;\">\n",
       "      <th></th>\n",
       "      <th>work_year</th>\n",
       "      <th>experience_level</th>\n",
       "      <th>employment_type</th>\n",
       "      <th>job_title</th>\n",
       "      <th>salary</th>\n",
       "      <th>salary_currency</th>\n",
       "      <th>salary_in_usd</th>\n",
       "      <th>employee_residence</th>\n",
       "      <th>remote_ratio</th>\n",
       "      <th>company_location</th>\n",
       "      <th>company_size</th>\n",
       "      <th>country_location</th>\n",
       "    </tr>\n",
       "  </thead>\n",
       "  <tbody>\n",
       "    <tr>\n",
       "      <th>1</th>\n",
       "      <td>2023</td>\n",
       "      <td>MI</td>\n",
       "      <td>CT</td>\n",
       "      <td>ML Engineer</td>\n",
       "      <td>30000</td>\n",
       "      <td>USD</td>\n",
       "      <td>30000</td>\n",
       "      <td>US</td>\n",
       "      <td>100</td>\n",
       "      <td>US</td>\n",
       "      <td>S</td>\n",
       "      <td>US</td>\n",
       "    </tr>\n",
       "    <tr>\n",
       "      <th>2</th>\n",
       "      <td>2023</td>\n",
       "      <td>MI</td>\n",
       "      <td>CT</td>\n",
       "      <td>ML Engineer</td>\n",
       "      <td>25500</td>\n",
       "      <td>USD</td>\n",
       "      <td>25500</td>\n",
       "      <td>US</td>\n",
       "      <td>100</td>\n",
       "      <td>US</td>\n",
       "      <td>S</td>\n",
       "      <td>US</td>\n",
       "    </tr>\n",
       "    <tr>\n",
       "      <th>5</th>\n",
       "      <td>2023</td>\n",
       "      <td>SE</td>\n",
       "      <td>FT</td>\n",
       "      <td>Applied Scientist</td>\n",
       "      <td>222200</td>\n",
       "      <td>USD</td>\n",
       "      <td>222200</td>\n",
       "      <td>US</td>\n",
       "      <td>0</td>\n",
       "      <td>US</td>\n",
       "      <td>L</td>\n",
       "      <td>US</td>\n",
       "    </tr>\n",
       "    <tr>\n",
       "      <th>6</th>\n",
       "      <td>2023</td>\n",
       "      <td>SE</td>\n",
       "      <td>FT</td>\n",
       "      <td>Applied Scientist</td>\n",
       "      <td>136000</td>\n",
       "      <td>USD</td>\n",
       "      <td>136000</td>\n",
       "      <td>US</td>\n",
       "      <td>0</td>\n",
       "      <td>US</td>\n",
       "      <td>L</td>\n",
       "      <td>US</td>\n",
       "    </tr>\n",
       "    <tr>\n",
       "      <th>9</th>\n",
       "      <td>2023</td>\n",
       "      <td>SE</td>\n",
       "      <td>FT</td>\n",
       "      <td>Data Scientist</td>\n",
       "      <td>147100</td>\n",
       "      <td>USD</td>\n",
       "      <td>147100</td>\n",
       "      <td>US</td>\n",
       "      <td>0</td>\n",
       "      <td>US</td>\n",
       "      <td>M</td>\n",
       "      <td>US</td>\n",
       "    </tr>\n",
       "    <tr>\n",
       "      <th>...</th>\n",
       "      <td>...</td>\n",
       "      <td>...</td>\n",
       "      <td>...</td>\n",
       "      <td>...</td>\n",
       "      <td>...</td>\n",
       "      <td>...</td>\n",
       "      <td>...</td>\n",
       "      <td>...</td>\n",
       "      <td>...</td>\n",
       "      <td>...</td>\n",
       "      <td>...</td>\n",
       "      <td>...</td>\n",
       "    </tr>\n",
       "    <tr>\n",
       "      <th>3749</th>\n",
       "      <td>2021</td>\n",
       "      <td>SE</td>\n",
       "      <td>FT</td>\n",
       "      <td>Data Specialist</td>\n",
       "      <td>165000</td>\n",
       "      <td>USD</td>\n",
       "      <td>165000</td>\n",
       "      <td>US</td>\n",
       "      <td>100</td>\n",
       "      <td>US</td>\n",
       "      <td>L</td>\n",
       "      <td>US</td>\n",
       "    </tr>\n",
       "    <tr>\n",
       "      <th>3750</th>\n",
       "      <td>2020</td>\n",
       "      <td>SE</td>\n",
       "      <td>FT</td>\n",
       "      <td>Data Scientist</td>\n",
       "      <td>412000</td>\n",
       "      <td>USD</td>\n",
       "      <td>412000</td>\n",
       "      <td>US</td>\n",
       "      <td>100</td>\n",
       "      <td>US</td>\n",
       "      <td>L</td>\n",
       "      <td>US</td>\n",
       "    </tr>\n",
       "    <tr>\n",
       "      <th>3751</th>\n",
       "      <td>2021</td>\n",
       "      <td>MI</td>\n",
       "      <td>FT</td>\n",
       "      <td>Principal Data Scientist</td>\n",
       "      <td>151000</td>\n",
       "      <td>USD</td>\n",
       "      <td>151000</td>\n",
       "      <td>US</td>\n",
       "      <td>100</td>\n",
       "      <td>US</td>\n",
       "      <td>L</td>\n",
       "      <td>US</td>\n",
       "    </tr>\n",
       "    <tr>\n",
       "      <th>3752</th>\n",
       "      <td>2020</td>\n",
       "      <td>EN</td>\n",
       "      <td>FT</td>\n",
       "      <td>Data Scientist</td>\n",
       "      <td>105000</td>\n",
       "      <td>USD</td>\n",
       "      <td>105000</td>\n",
       "      <td>US</td>\n",
       "      <td>100</td>\n",
       "      <td>US</td>\n",
       "      <td>S</td>\n",
       "      <td>US</td>\n",
       "    </tr>\n",
       "    <tr>\n",
       "      <th>3753</th>\n",
       "      <td>2020</td>\n",
       "      <td>EN</td>\n",
       "      <td>CT</td>\n",
       "      <td>Business Data Analyst</td>\n",
       "      <td>100000</td>\n",
       "      <td>USD</td>\n",
       "      <td>100000</td>\n",
       "      <td>US</td>\n",
       "      <td>100</td>\n",
       "      <td>US</td>\n",
       "      <td>L</td>\n",
       "      <td>US</td>\n",
       "    </tr>\n",
       "  </tbody>\n",
       "</table>\n",
       "<p>3040 rows × 12 columns</p>\n",
       "</div>"
      ],
      "text/plain": [
       "      work_year experience_level employment_type                 job_title  \\\n",
       "1          2023               MI              CT               ML Engineer   \n",
       "2          2023               MI              CT               ML Engineer   \n",
       "5          2023               SE              FT         Applied Scientist   \n",
       "6          2023               SE              FT         Applied Scientist   \n",
       "9          2023               SE              FT            Data Scientist   \n",
       "...         ...              ...             ...                       ...   \n",
       "3749       2021               SE              FT           Data Specialist   \n",
       "3750       2020               SE              FT            Data Scientist   \n",
       "3751       2021               MI              FT  Principal Data Scientist   \n",
       "3752       2020               EN              FT            Data Scientist   \n",
       "3753       2020               EN              CT     Business Data Analyst   \n",
       "\n",
       "      salary salary_currency  salary_in_usd employee_residence  remote_ratio  \\\n",
       "1      30000             USD          30000                 US           100   \n",
       "2      25500             USD          25500                 US           100   \n",
       "5     222200             USD         222200                 US             0   \n",
       "6     136000             USD         136000                 US             0   \n",
       "9     147100             USD         147100                 US             0   \n",
       "...      ...             ...            ...                ...           ...   \n",
       "3749  165000             USD         165000                 US           100   \n",
       "3750  412000             USD         412000                 US           100   \n",
       "3751  151000             USD         151000                 US           100   \n",
       "3752  105000             USD         105000                 US           100   \n",
       "3753  100000             USD         100000                 US           100   \n",
       "\n",
       "     company_location company_size country_location  \n",
       "1                  US            S               US  \n",
       "2                  US            S               US  \n",
       "5                  US            L               US  \n",
       "6                  US            L               US  \n",
       "9                  US            M               US  \n",
       "...               ...          ...              ...  \n",
       "3749               US            L               US  \n",
       "3750               US            L               US  \n",
       "3751               US            L               US  \n",
       "3752               US            S               US  \n",
       "3753               US            L               US  \n",
       "\n",
       "[3040 rows x 12 columns]"
      ]
     },
     "execution_count": 43,
     "metadata": {},
     "output_type": "execute_result"
    }
   ],
   "source": [
    "# Filtrer les salaires pour un pays donné (ex : US)\n",
    "df[df[\"company_location\"] == \"US\"]"
   ]
  },
  {
   "cell_type": "code",
   "execution_count": 54,
   "id": "6be2ec47",
   "metadata": {},
   "outputs": [
    {
     "name": "stdout",
     "output_type": "stream",
     "text": [
      "                  salary_in_usd\n",
      "company_location               \n",
      "IL                271446.500000\n",
      "PR                167500.000000\n",
      "US                151822.009539\n",
      "RU                140333.333333\n",
      "CA                131917.689655\n"
     ]
    }
   ],
   "source": [
    "# Top 5 des entreprises qui paient le plus\n",
    "print(df.groupby(by=\"company_location\")[['salary_in_usd']].mean().sort_values(by = \"salary_in_usd\",ascending= False).head())"
   ]
  },
  {
   "cell_type": "code",
   "execution_count": 68,
   "id": "10d4d3d4",
   "metadata": {},
   "outputs": [
    {
     "name": "stdout",
     "output_type": "stream",
     "text": [
      "                                      salary\n",
      "job_title                                   \n",
      "3D Computer Vision Researcher  120000.000000\n",
      "AI Developer                   137181.818182\n",
      "AI Programmer                   55000.000000\n",
      "AI Scientist                   275312.500000\n",
      "Analytics Engineer             151352.621359\n",
      "...                                      ...\n",
      "Research Engineer              162752.810811\n",
      "Research Scientist             160768.890244\n",
      "Software Data Engineer          75000.000000\n",
      "Staff Data Analyst              15000.000000\n",
      "Staff Data Scientist           105000.000000\n",
      "\n",
      "[93 rows x 1 columns]\n",
      "                  remote_ratio\n",
      "company_location              \n",
      "AR                       100.0\n",
      "CF                       100.0\n",
      "CL                       100.0\n",
      "CR                       100.0\n",
      "EG                       100.0\n",
      "IR                       100.0\n",
      "KE                       100.0\n",
      "MY                       100.0\n",
      "NG                       100.0\n",
      "PH                       100.0\n",
      "PL                       100.0\n",
      "PR                       100.0\n",
      "SK                       100.0\n"
     ]
    }
   ],
   "source": [
    "# Filtrer les données\n",
    "# Rôles avec un salaire moyen supérieur à 100,000\n",
    "salaire_100 = df.groupby(by=\"job_title\")[['salary']].mean()\n",
    "print(salaire_100[salaire_100[\"salary\"] > 100])\n",
    "# Pays avec la plus forte proportion de télétravail (remote_ratio = 100)\n",
    "top_visio = df.groupby(by=\"company_location\")[['remote_ratio']].mean()\n",
    "print(top_visio[top_visio[\"remote_ratio\"] == 100])"
   ]
  },
  {
   "cell_type": "code",
   "execution_count": 79,
   "id": "3d3e19de",
   "metadata": {},
   "outputs": [
    {
     "name": "stdout",
     "output_type": "stream",
     "text": [
      "136481.45283018867\n",
      "Salaire moyen d'un Data Specialist : 119642.85714285714 \n",
      "Salaire moyen d'un Business Data Analyst : 66065.4\n"
     ]
    }
   ],
   "source": [
    "# Requêtes conditionnelles\n",
    "# Salaire moyen des employés à distance (100%)\n",
    "df2 = df[df[\"remote_ratio\"] == 100]\n",
    "print(df2['salary_in_usd'].mean())\n",
    "# Comparer salaires moyens pour deux catégories\n",
    "df3 = df[df[\"job_title\"] == \"Data Specialist\"]\n",
    "df4 = df[df[\"job_title\"] == \"Business Data Analyst\"]\n",
    "print(\"Salaire moyen d'un Data Specialist :\", df3['salary_in_usd'].mean(), \"\\nSalaire moyen d'un Business Data Analyst :\", df4['salary_in_usd'].mean())"
   ]
  },
  {
   "cell_type": "code",
   "execution_count": 84,
   "id": "7d72271b",
   "metadata": {},
   "outputs": [
    {
     "name": "stdout",
     "output_type": "stream",
     "text": [
      "   salary_in_usd fork_salary\n",
      "0          85847    50k-100k\n",
      "1          30000        <50k\n",
      "2          25500        <50k\n",
      "3         175000       150k+\n",
      "4         120000   100k-150k\n"
     ]
    }
   ],
   "source": [
    "# Ajouter une colonne pour les fourchettes de salaires\n",
    "\n",
    "df[\"fork_salary\"] = pd.cut(df[\"salary_in_usd\"],\n",
    "    bins=[0, 50000, 100000, 150000, float(\"inf\")],\n",
    "    labels=[\"<50k\", \"50k-100k\", \"100k-150k\", \"150k+\"], right=False \n",
    ")\n",
    "\n",
    "print(df[[\"salary_in_usd\", \"fork_salary\"]].head())"
   ]
  },
  {
   "cell_type": "code",
   "execution_count": 85,
   "id": "08ebd32f",
   "metadata": {},
   "outputs": [
    {
     "data": {
      "text/plain": [
       "-0.06417098519057557"
      ]
     },
     "execution_count": 85,
     "metadata": {},
     "output_type": "execute_result"
    }
   ],
   "source": [
    "# Analyse des corrélations\n",
    "# Relation entre télétravail et salaire\n",
    "df['remote_ratio'].corr(df['salary_in_usd'])"
   ]
  },
  {
   "cell_type": "code",
   "execution_count": 86,
   "id": "a024d154",
   "metadata": {},
   "outputs": [
    {
     "data": {
      "text/html": [
       "<div>\n",
       "<style scoped>\n",
       "    .dataframe tbody tr th:only-of-type {\n",
       "        vertical-align: middle;\n",
       "    }\n",
       "\n",
       "    .dataframe tbody tr th {\n",
       "        vertical-align: top;\n",
       "    }\n",
       "\n",
       "    .dataframe thead th {\n",
       "        text-align: right;\n",
       "    }\n",
       "</style>\n",
       "<table border=\"1\" class=\"dataframe\">\n",
       "  <thead>\n",
       "    <tr style=\"text-align: right;\">\n",
       "      <th></th>\n",
       "      <th>salary_in_usd</th>\n",
       "    </tr>\n",
       "    <tr>\n",
       "      <th>company_size</th>\n",
       "      <th></th>\n",
       "    </tr>\n",
       "  </thead>\n",
       "  <tbody>\n",
       "    <tr>\n",
       "      <th>L</th>\n",
       "      <td>118300.982379</td>\n",
       "    </tr>\n",
       "    <tr>\n",
       "      <th>M</th>\n",
       "      <td>143130.548367</td>\n",
       "    </tr>\n",
       "    <tr>\n",
       "      <th>S</th>\n",
       "      <td>78226.682432</td>\n",
       "    </tr>\n",
       "  </tbody>\n",
       "</table>\n",
       "</div>"
      ],
      "text/plain": [
       "              salary_in_usd\n",
       "company_size               \n",
       "L             118300.982379\n",
       "M             143130.548367\n",
       "S              78226.682432"
      ]
     },
     "execution_count": 86,
     "metadata": {},
     "output_type": "execute_result"
    }
   ],
   "source": [
    "# Salaire moyen par taille d'entreprise\n",
    "df.groupby(by=\"company_size\")[['salary_in_usd']].mean()"
   ]
  },
  {
   "cell_type": "code",
   "execution_count": 90,
   "id": "b167d883",
   "metadata": {},
   "outputs": [
    {
     "name": "stdout",
     "output_type": "stream",
     "text": [
      "Tableau croisé des salaires :\n",
      "remote_ratio                0              50             100\n",
      "experience_level                                             \n",
      "EN                104581.765766   64006.230769   65040.486111\n",
      "EX                182435.785714  139030.166667  214837.326923\n",
      "MI                116723.103535   74214.405405   96803.480597\n",
      "SE                154024.064706   98438.136364  154022.023381\n"
     ]
    }
   ],
   "source": [
    "# Tableaux croisés\n",
    "# Moyenne des salaires par niveau d'expérience et télétravail\n",
    "pivot_table = df.pivot_table(\n",
    "    index='experience_level', \n",
    "    columns='remote_ratio', \n",
    "    values='salary_in_usd', \n",
    "    aggfunc='mean'\n",
    ")\n",
    "print(\"Tableau croisé des salaires :\")\n",
    "print(pivot_table)"
   ]
  }
 ],
 "metadata": {
  "kernelspec": {
   "display_name": "Python 3 (ipykernel)",
   "language": "python",
   "name": "python3"
  },
  "language_info": {
   "codemirror_mode": {
    "name": "ipython",
    "version": 3
   },
   "file_extension": ".py",
   "mimetype": "text/x-python",
   "name": "python",
   "nbconvert_exporter": "python",
   "pygments_lexer": "ipython3",
   "version": "3.12.8"
  }
 },
 "nbformat": 4,
 "nbformat_minor": 5
}
